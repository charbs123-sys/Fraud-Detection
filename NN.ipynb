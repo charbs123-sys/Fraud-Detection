{
 "cells": [
  {
   "cell_type": "code",
   "execution_count": 1,
   "id": "638c8631",
   "metadata": {},
   "outputs": [],
   "source": [
    "import pandas as pd"
   ]
  },
  {
   "cell_type": "code",
   "execution_count": 2,
   "id": "4d963632",
   "metadata": {},
   "outputs": [],
   "source": [
    "test_path = 'dataset/fraudTest.csv'\n",
    "train_path = 'dataset/fraudTrain.csv'\n",
    "df_train = pd.read_csv(train_path)\n",
    "df_test = pd.read_csv(test_path)"
   ]
  },
  {
   "cell_type": "code",
   "execution_count": 110,
   "id": "adf3aafa",
   "metadata": {},
   "outputs": [],
   "source": [
    "X = df_train.drop(columns=[\"Unnamed: 0\",\"first\",\"last\",\"street\",\"city\",\"state\",\"zip\",\"is_fraud\",\"cc_num\",\"unix_time\",\"trans_num\"])\n",
    "y = df_train[\"is_fraud\"]\n",
    "X_test = df_test.drop(columns=[\"Unnamed: 0\",\"first\",\"last\",\"street\",\"city\",\"state\",\"zip\",\"is_fraud\",\"cc_num\",\"unix_time\",\"trans_num\"])\n",
    "y_test = df_test[\"is_fraud\"]\n",
    "\n",
    "X[\"age\"] = (pd.to_datetime(X[\"trans_date_trans_time\"]) - pd.to_datetime(X[\"dob\"])).dt.days // 365\n",
    "X_test[\"age\"] = (pd.to_datetime(X_test[\"trans_date_trans_time\"]) - pd.to_datetime(X_test[\"dob\"])).dt.days // 365\n",
    "\n",
    "X.drop(columns=[\"trans_date_trans_time\",\"dob\"],inplace=True)\n",
    "X_test.drop(columns=[\"trans_date_trans_time\",\"dob\"],inplace=True)"
   ]
  },
  {
   "cell_type": "markdown",
   "id": "62d59d05",
   "metadata": {},
   "source": [
    "Use Target Encoding for now"
   ]
  },
  {
   "cell_type": "code",
   "execution_count": 111,
   "id": "546fc849",
   "metadata": {},
   "outputs": [],
   "source": [
    "encodings = [\"merchant\", \"category\", \"job\"]\n",
    "X_y = pd.concat([X,y], axis = 1)\n",
    "for feature in encodings:\n",
    "    means = X_y.groupby(feature)[\"is_fraud\"].mean()\n",
    "    X_y[feature] = X_y[feature].map(means)\n",
    "\n",
    "X_be = X_y.drop(columns=\"is_fraud\")\n",
    "y = X_y[\"is_fraud\"]\n",
    "\n",
    "encodings = [\"merchant\", \"category\", \"job\"]\n",
    "X_y = pd.concat([X_test,y_test], axis = 1)\n",
    "for feature in encodings:\n",
    "    means = X_y.groupby(feature)[\"is_fraud\"].mean()\n",
    "    X_y[feature] = X_y[feature].map(means)\n",
    "\n",
    "X_be_test = X_y.drop(columns=\"is_fraud\")\n",
    "y_test = X_y[\"is_fraud\"]\n",
    "    \n",
    "X_be[\"gender\"] = (X_be[\"gender\"] == \"M\") * 1\n"
   ]
  },
  {
   "cell_type": "markdown",
   "id": "6ce96a6c",
   "metadata": {},
   "source": [
    "Scale features appropriately"
   ]
  },
  {
   "cell_type": "code",
   "execution_count": 112,
   "id": "8648d94e",
   "metadata": {},
   "outputs": [],
   "source": [
    "from sklearn.preprocessing import RobustScaler\n",
    "\n",
    "rob_scaler = RobustScaler()\n",
    "\n",
    "def robust_scaling(df, feature):\n",
    "    scaled = rob_scaler.fit_transform(df[feature].values.reshape(-1,1))\n",
    "    return scaled\n",
    "\n",
    "features_to_scale = [\"amt\",\"city_pop\"]\n",
    "for feature in features_to_scale:\n",
    "    X_be[feature] = robust_scaling(X_be, feature)\n",
    "\n",
    "def scale_longlat(df, feature):\n",
    "    scaled = df[feature]/100\n",
    "    return scaled\n",
    "\n",
    "long_lat_ls = [\"lat\",\"long\",\"merch_lat\",\"merch_long\"]\n",
    "for feature in long_lat_ls:\n",
    "    X_be[feature] = scale_longlat(X_be, feature)\n",
    "\n",
    "from sklearn.preprocessing import MinMaxScaler\n",
    "min_max = MinMaxScaler()\n",
    "X_be[\"age\"] = min_max.fit_transform(X_be[[\"age\"]])"
   ]
  },
  {
   "cell_type": "markdown",
   "id": "b26179b3",
   "metadata": {},
   "source": [
    "Want to keep original dataset before under-sampling"
   ]
  },
  {
   "cell_type": "code",
   "execution_count": 113,
   "id": "5f54638f",
   "metadata": {},
   "outputs": [],
   "source": [
    "df = pd.concat([X_be, y], axis = 1)\n",
    "df = df.sample(frac = 1)"
   ]
  },
  {
   "cell_type": "code",
   "execution_count": 114,
   "id": "35ac0616",
   "metadata": {},
   "outputs": [
    {
     "name": "stdout",
     "output_type": "stream",
     "text": [
      "Train: [ 259320  259321  259322 ... 1296672 1296673 1296674] Test: [     0      1      2 ... 261589 262212 262241]\n",
      "Train: [      0       1       2 ... 1296672 1296673 1296674] Test: [259320 259321 259322 ... 528574 529501 529830]\n",
      "Train: [      0       1       2 ... 1296672 1296673 1296674] Test: [518623 518624 518625 ... 784598 784770 784850]\n",
      "Train: [      0       1       2 ... 1296672 1296673 1296674] Test: [ 777957  777958  777959 ... 1037365 1037366 1037367]\n",
      "Train: [      0       1       2 ... 1037365 1037366 1037367] Test: [1033098 1033109 1033204 ... 1296672 1296673 1296674]\n"
     ]
    }
   ],
   "source": [
    "from sklearn.model_selection import StratifiedKFold\n",
    "\n",
    "X = df.drop(\"is_fraud\", axis = 1)\n",
    "y = df[\"is_fraud\"]\n",
    "\n",
    "sss = StratifiedKFold(n_splits=5, random_state=None, shuffle=False)\n",
    "for train_index, test_index in sss.split(X, y):\n",
    "    print(\"Train:\", train_index, \"Test:\", test_index)\n",
    "    original_Xtrain, original_Xtest = X.iloc[train_index], X.iloc[test_index]\n",
    "    original_ytrain, original_ytest = y.iloc[train_index], y.iloc[test_index]\n",
    "\n",
    "original_Xtrain = original_Xtrain.values\n",
    "original_Xtest = original_Xtest.values\n",
    "original_ytrain = original_ytrain.values\n",
    "original_ytest = original_ytest.values"
   ]
  },
  {
   "cell_type": "markdown",
   "id": "7768a210",
   "metadata": {},
   "source": [
    "Performing Random Under-Sampling"
   ]
  },
  {
   "cell_type": "code",
   "execution_count": 115,
   "id": "823434b3",
   "metadata": {},
   "outputs": [],
   "source": [
    "#extract fraudulent claims and undersample\n",
    "fraud_df = df.loc[df['is_fraud'] == 1]\n",
    "non_fraud_df = df.loc[df['is_fraud'] == 0][:fraud_df.shape[0]]\n",
    "\n",
    "#combine df and shuffle\n",
    "normal_distributed_df = pd.concat([fraud_df, non_fraud_df])\n",
    "new_df = normal_distributed_df.sample(frac=1, random_state=42)"
   ]
  },
  {
   "cell_type": "code",
   "execution_count": 61,
   "id": "ef4ba41d",
   "metadata": {},
   "outputs": [],
   "source": [
    "import seaborn as sns\n",
    "import matplotlib.pyplot as plt"
   ]
  },
  {
   "cell_type": "code",
   "execution_count": null,
   "id": "a72cdda7",
   "metadata": {},
   "outputs": [],
   "source": [
    "\"\"\" print('Distribution of the Classes in the subsample dataset')\n",
    "print(new_df['is_fraud'].value_counts()/len(new_df))\n",
    "\n",
    "sns.countplot(x='is_fraud', data= new_df)\n",
    "plt.title('Equally Distributed Classes', fontsize=14)\n",
    "plt.show() \"\"\""
   ]
  },
  {
   "cell_type": "code",
   "execution_count": null,
   "id": "4e765b02",
   "metadata": {},
   "outputs": [],
   "source": [
    "f, ax1 = plt.subplots(1, 1, figsize=(10,5))\n",
    "subsampled_cor = new_df.corr()\n",
    "sns.heatmap(subsampled_cor, cmap='coolwarm_r', annot_kws={'size':20}, ax=ax1)\n",
    "ax1.set_title('SubSample Correlation Matrix \\n (use for reference)', fontsize=14)\n",
    "plt.show()"
   ]
  },
  {
   "cell_type": "markdown",
   "id": "a64b71b6",
   "metadata": {},
   "source": [
    "Merchant and Category are highly correlated with each other\n",
    "latitude is negatively correlated with city_pop and positively correlated with merch_lat\n",
    "long pos correlated with merch long\n"
   ]
  },
  {
   "cell_type": "markdown",
   "id": "93c6cb26",
   "metadata": {},
   "source": [
    "Removing extreme outliers via IQR method --- for now ignore"
   ]
  },
  {
   "cell_type": "markdown",
   "id": "67bb3eec",
   "metadata": {},
   "source": [
    "Dimensionality reduction via TSNE ---- for now ignore"
   ]
  },
  {
   "cell_type": "markdown",
   "id": "6b6800d0",
   "metadata": {},
   "source": [
    "NN implementation previous to undersampling ---- prone to overfit"
   ]
  },
  {
   "cell_type": "code",
   "execution_count": 116,
   "id": "4b4fc170",
   "metadata": {},
   "outputs": [],
   "source": [
    "from sklearn.model_selection import train_test_split\n",
    "\n",
    "X = new_df.drop(\"is_fraud\", axis = 1)\n",
    "y = new_df[\"is_fraud\"]\n",
    "\n",
    "X_train, X_test, y_train, y_test = train_test_split(X, y, test_size=0.2, random_state=42)\n",
    "\n",
    "X_train = X_train.values\n",
    "X_test = X_test.values\n",
    "y_train = y_train.values\n",
    "y_test = y_test.values"
   ]
  },
  {
   "cell_type": "code",
   "execution_count": 80,
   "id": "98debbb7",
   "metadata": {},
   "outputs": [],
   "source": [
    "import keras\n",
    "from keras import backend as K\n",
    "from keras.models import Sequential\n",
    "from keras.layers import Activation\n",
    "from keras.layers import Dense\n",
    "from keras.optimizers import Adam\n",
    "from keras.metrics import categorical_crossentropy\n",
    "from sklearn.metrics import confusion_matrix, classification_report\n",
    "import random"
   ]
  },
  {
   "cell_type": "code",
   "execution_count": 117,
   "id": "5443fcfd",
   "metadata": {},
   "outputs": [
    {
     "name": "stderr",
     "output_type": "stream",
     "text": [
      "c:\\Users\\User\\AppData\\Local\\Programs\\Python\\Python312\\Lib\\site-packages\\keras\\src\\layers\\core\\dense.py:87: UserWarning: Do not pass an `input_shape`/`input_dim` argument to a layer. When using Sequential models, prefer using an `Input(shape)` object as the first layer in the model instead.\n",
      "  super().__init__(activity_regularizer=activity_regularizer, **kwargs)\n"
     ]
    }
   ],
   "source": [
    "seed_value = 117\n",
    "random.seed(seed_value)\n",
    "\n",
    "model = Sequential()\n",
    "\n",
    "model.add(Dense(units=64, activation='relu', input_shape=(X_train.shape[1],)))\n",
    "\n",
    "model.add(Dense(units = 32, activation = \"relu\"))\n",
    "\n",
    "model.add(Dense(units = 2, activation='softmax'))\n",
    "\n",
    "model.compile(optimizer=Adam(learning_rate=0.01), loss='sparse_categorical_crossentropy', metrics=['accuracy'])"
   ]
  },
  {
   "cell_type": "code",
   "execution_count": 118,
   "id": "765c5e5d",
   "metadata": {},
   "outputs": [
    {
     "name": "stdout",
     "output_type": "stream",
     "text": [
      "Epoch 1/30\n",
      "385/385 - 1s - 3ms/step - accuracy: 0.8503 - loss: 0.3989 - val_accuracy: 0.8443 - val_loss: 0.3711\n",
      "Epoch 2/30\n",
      "385/385 - 0s - 1ms/step - accuracy: 0.8603 - loss: 0.3418 - val_accuracy: 0.8555 - val_loss: 0.3360\n",
      "Epoch 3/30\n",
      "385/385 - 0s - 1ms/step - accuracy: 0.8620 - loss: 0.3334 - val_accuracy: 0.8514 - val_loss: 0.3547\n",
      "Epoch 4/30\n",
      "385/385 - 0s - 1ms/step - accuracy: 0.8589 - loss: 0.3300 - val_accuracy: 0.8468 - val_loss: 0.3476\n",
      "Epoch 5/30\n",
      "385/385 - 0s - 1ms/step - accuracy: 0.8645 - loss: 0.3143 - val_accuracy: 0.8580 - val_loss: 0.3197\n",
      "Epoch 6/30\n",
      "385/385 - 0s - 1ms/step - accuracy: 0.8694 - loss: 0.3053 - val_accuracy: 0.8639 - val_loss: 0.3130\n",
      "Epoch 7/30\n",
      "385/385 - 0s - 1ms/step - accuracy: 0.8731 - loss: 0.3000 - val_accuracy: 0.8576 - val_loss: 0.3269\n",
      "Epoch 8/30\n",
      "385/385 - 0s - 1ms/step - accuracy: 0.8718 - loss: 0.2977 - val_accuracy: 0.8697 - val_loss: 0.3119\n",
      "Epoch 9/30\n",
      "385/385 - 0s - 1ms/step - accuracy: 0.8805 - loss: 0.2863 - val_accuracy: 0.8618 - val_loss: 0.3154\n",
      "Epoch 10/30\n",
      "385/385 - 0s - 1ms/step - accuracy: 0.8788 - loss: 0.2793 - val_accuracy: 0.8718 - val_loss: 0.2988\n",
      "Epoch 11/30\n",
      "385/385 - 0s - 1ms/step - accuracy: 0.8829 - loss: 0.2720 - val_accuracy: 0.8739 - val_loss: 0.2943\n",
      "Epoch 12/30\n",
      "385/385 - 1s - 1ms/step - accuracy: 0.8850 - loss: 0.2720 - val_accuracy: 0.8639 - val_loss: 0.3067\n",
      "Epoch 13/30\n",
      "385/385 - 0s - 1ms/step - accuracy: 0.8863 - loss: 0.2735 - val_accuracy: 0.8659 - val_loss: 0.3014\n",
      "Epoch 14/30\n",
      "385/385 - 0s - 1ms/step - accuracy: 0.8889 - loss: 0.2615 - val_accuracy: 0.8772 - val_loss: 0.2776\n",
      "Epoch 15/30\n",
      "385/385 - 0s - 1ms/step - accuracy: 0.8867 - loss: 0.2576 - val_accuracy: 0.8868 - val_loss: 0.2638\n",
      "Epoch 16/30\n",
      "385/385 - 0s - 1ms/step - accuracy: 0.8882 - loss: 0.2527 - val_accuracy: 0.8855 - val_loss: 0.2697\n",
      "Epoch 17/30\n",
      "385/385 - 0s - 1ms/step - accuracy: 0.8883 - loss: 0.2518 - val_accuracy: 0.8651 - val_loss: 0.3115\n",
      "Epoch 18/30\n",
      "385/385 - 0s - 1ms/step - accuracy: 0.8851 - loss: 0.2605 - val_accuracy: 0.8768 - val_loss: 0.2866\n",
      "Epoch 19/30\n",
      "385/385 - 0s - 1ms/step - accuracy: 0.8886 - loss: 0.2519 - val_accuracy: 0.8805 - val_loss: 0.2773\n",
      "Epoch 20/30\n",
      "385/385 - 0s - 1ms/step - accuracy: 0.8921 - loss: 0.2460 - val_accuracy: 0.8797 - val_loss: 0.2624\n",
      "Epoch 21/30\n",
      "385/385 - 0s - 1ms/step - accuracy: 0.8942 - loss: 0.2406 - val_accuracy: 0.8789 - val_loss: 0.2649\n",
      "Epoch 22/30\n",
      "385/385 - 0s - 1ms/step - accuracy: 0.8912 - loss: 0.2438 - val_accuracy: 0.8680 - val_loss: 0.3010\n",
      "Epoch 23/30\n",
      "385/385 - 0s - 1ms/step - accuracy: 0.8925 - loss: 0.2460 - val_accuracy: 0.8818 - val_loss: 0.2702\n",
      "Epoch 24/30\n",
      "385/385 - 0s - 1ms/step - accuracy: 0.8912 - loss: 0.2427 - val_accuracy: 0.8776 - val_loss: 0.2718\n",
      "Epoch 25/30\n",
      "385/385 - 0s - 1ms/step - accuracy: 0.8934 - loss: 0.2405 - val_accuracy: 0.8813 - val_loss: 0.2746\n",
      "Epoch 26/30\n",
      "385/385 - 1s - 1ms/step - accuracy: 0.8926 - loss: 0.2426 - val_accuracy: 0.8859 - val_loss: 0.2568\n",
      "Epoch 27/30\n",
      "385/385 - 0s - 1ms/step - accuracy: 0.8949 - loss: 0.2400 - val_accuracy: 0.8709 - val_loss: 0.2865\n",
      "Epoch 28/30\n",
      "385/385 - 1s - 1ms/step - accuracy: 0.8961 - loss: 0.2395 - val_accuracy: 0.8843 - val_loss: 0.2621\n",
      "Epoch 29/30\n",
      "385/385 - 1s - 1ms/step - accuracy: 0.8981 - loss: 0.2361 - val_accuracy: 0.8805 - val_loss: 0.2633\n",
      "Epoch 30/30\n",
      "385/385 - 1s - 1ms/step - accuracy: 0.8976 - loss: 0.2330 - val_accuracy: 0.8884 - val_loss: 0.2518\n"
     ]
    },
    {
     "data": {
      "text/plain": [
       "<keras.src.callbacks.history.History at 0x26695a1d850>"
      ]
     },
     "execution_count": 118,
     "metadata": {},
     "output_type": "execute_result"
    }
   ],
   "source": [
    "model.fit(X_train, y_train, validation_split = 0.2, batch_size=25, epochs = 30, shuffle=True, verbose = 2)"
   ]
  },
  {
   "cell_type": "code",
   "execution_count": 119,
   "id": "3396fd7e",
   "metadata": {},
   "outputs": [
    {
     "name": "stdout",
     "output_type": "stream",
     "text": [
      "\u001b[1m1297/1297\u001b[0m \u001b[32m━━━━━━━━━━━━━━━━━━━━\u001b[0m\u001b[37m\u001b[0m \u001b[1m1s\u001b[0m 570us/step\n"
     ]
    }
   ],
   "source": [
    "import numpy as np\n",
    "pred_undersample = (model.predict(original_Xtest, batch_size = 200, verbose = 1) > 0.5).astype(int)\n",
    "pred_undersample = np.argmax(pred_undersample, axis = 1)"
   ]
  },
  {
   "cell_type": "code",
   "execution_count": null,
   "id": "64f39e48",
   "metadata": {},
   "outputs": [],
   "source": [
    "import itertools\n",
    "# Create a confusion matrix\n",
    "def plot_confusion_matrix(cm, classes,\n",
    "                          normalize=False,\n",
    "                          title='Confusion matrix',\n",
    "                          cmap=plt.cm.Blues):\n",
    "    \"\"\"\n",
    "    This function prints and plots the confusion matrix.\n",
    "    Normalization can be applied by setting `normalize=True`.\n",
    "    \"\"\"\n",
    "    if normalize:\n",
    "        cm = cm.astype('float') / cm.sum(axis=1)[:, np.newaxis]\n",
    "        print(\"Normalized confusion matrix\")\n",
    "    else:\n",
    "        print('Confusion matrix, without normalization')\n",
    "\n",
    "    print(cm)\n",
    "\n",
    "    plt.imshow(cm, interpolation='nearest', cmap=cmap)\n",
    "    plt.title(title, fontsize=14)\n",
    "    plt.colorbar()\n",
    "    tick_marks = np.arange(len(classes))\n",
    "    plt.xticks(tick_marks, classes, rotation=45)\n",
    "    plt.yticks(tick_marks, classes)\n",
    "\n",
    "    fmt = '.2f' if normalize else 'd'\n",
    "    thresh = cm.max() / 2.\n",
    "    for i, j in itertools.product(range(cm.shape[0]), range(cm.shape[1])):\n",
    "        plt.text(j, i, format(cm[i, j], fmt),\n",
    "                 horizontalalignment=\"center\",\n",
    "                 color=\"white\" if cm[i, j] > thresh else \"black\")\n",
    "\n",
    "    plt.tight_layout()\n",
    "    plt.ylabel('True label')\n",
    "    plt.xlabel('Predicted label')"
   ]
  },
  {
   "cell_type": "markdown",
   "id": "d64fe9c3",
   "metadata": {},
   "source": [
    "output is what we expect, the model has been overfit on the dataset"
   ]
  },
  {
   "cell_type": "code",
   "execution_count": 122,
   "id": "c353e19d",
   "metadata": {},
   "outputs": [
    {
     "name": "stdout",
     "output_type": "stream",
     "text": [
      "Confusion matrix, without normalization\n",
      "[[225109  32724]\n",
      " [   132   1370]]\n"
     ]
    },
    {
     "data": {
      "image/png": "[encoded data removed]",
      "text/plain": [
       "<Figure size 1600x800 with 2 Axes>"
      ]
     },
     "metadata": {},
     "output_type": "display_data"
    }
   ],
   "source": [
    "undersample_preds = confusion_matrix(original_ytest, pred_undersample)\n",
    "labels = ['No Fraud', 'Fraud']\n",
    "fig = plt.figure(figsize=(16,8))\n",
    "fig.add_subplot(221)\n",
    "plot_confusion_matrix(undersample_preds, labels, title=\"Random UnderSample \\n Confusion Matrix\", cmap=plt.cm.Reds)"
   ]
  },
  {
   "cell_type": "markdown",
   "id": "9316a309",
   "metadata": {},
   "source": [
    "Now we try NN after SMOTE"
   ]
  },
  {
   "cell_type": "code",
   "execution_count": 125,
   "id": "c6e17c34",
   "metadata": {},
   "outputs": [],
   "source": [
    "from imblearn.over_sampling import SMOTE\n",
    "sm = SMOTE(sampling_strategy = \"minority\", random_state=42)\n",
    "Xsm_train, ysm_train = sm.fit_resample(original_Xtrain, original_ytrain)"
   ]
  },
  {
   "cell_type": "code",
   "execution_count": 127,
   "id": "8b0c1aa7",
   "metadata": {},
   "outputs": [
    {
     "data": {
      "text/plain": [
       "2062672"
      ]
     },
     "execution_count": 127,
     "metadata": {},
     "output_type": "execute_result"
    }
   ],
   "source": [
    "len(Xsm_train)"
   ]
  },
  {
   "cell_type": "code",
   "execution_count": 143,
   "id": "303cd672",
   "metadata": {},
   "outputs": [
    {
     "name": "stderr",
     "output_type": "stream",
     "text": [
      "c:\\Users\\User\\AppData\\Local\\Programs\\Python\\Python312\\Lib\\site-packages\\keras\\src\\layers\\core\\dense.py:87: UserWarning: Do not pass an `input_shape`/`input_dim` argument to a layer. When using Sequential models, prefer using an `Input(shape)` object as the first layer in the model instead.\n",
      "  super().__init__(activity_regularizer=activity_regularizer, **kwargs)\n"
     ]
    }
   ],
   "source": [
    "seed_value = 117\n",
    "random.seed(seed_value)\n",
    "\n",
    "oversample_model = Sequential()\n",
    "\n",
    "oversample_model.add(Dense(units=64, activation='relu', input_shape=(Xsm_train.shape[1],)))\n",
    "\n",
    "oversample_model.add(Dense(units = 64, activation = \"relu\"))\n",
    "\n",
    "oversample_model.add(Dense(units = 2, activation='softmax'))\n",
    "\n",
    "oversample_model.compile(optimizer=Adam(learning_rate=0.01), loss='sparse_categorical_crossentropy', metrics=['accuracy'])"
   ]
  },
  {
   "cell_type": "code",
   "execution_count": 144,
   "id": "511e3192",
   "metadata": {},
   "outputs": [
    {
     "name": "stdout",
     "output_type": "stream",
     "text": [
      "Epoch 1/30\n",
      "16502/16502 - 16s - 982us/step - accuracy: 0.9227 - loss: 0.1891 - val_accuracy: 0.9308 - val_loss: 0.1774\n",
      "Epoch 2/30\n",
      "16502/16502 - 15s - 937us/step - accuracy: 0.9419 - loss: 0.1459 - val_accuracy: 0.8921 - val_loss: 0.2630\n",
      "Epoch 3/30\n",
      "16502/16502 - 16s - 952us/step - accuracy: 0.9457 - loss: 0.1366 - val_accuracy: 0.9541 - val_loss: 0.1305\n",
      "Epoch 4/30\n",
      "16502/16502 - 15s - 938us/step - accuracy: 0.9486 - loss: 0.1298 - val_accuracy: 0.9166 - val_loss: 0.2068\n",
      "Epoch 5/30\n",
      "16502/16502 - 15s - 936us/step - accuracy: 0.9502 - loss: 0.1264 - val_accuracy: 0.9405 - val_loss: 0.1578\n",
      "Epoch 6/30\n",
      "16502/16502 - 16s - 943us/step - accuracy: 0.9522 - loss: 0.1220 - val_accuracy: 0.9350 - val_loss: 0.1755\n",
      "Epoch 7/30\n",
      "16502/16502 - 16s - 973us/step - accuracy: 0.9531 - loss: 0.1195 - val_accuracy: 0.9125 - val_loss: 0.2229\n",
      "Epoch 8/30\n",
      "16502/16502 - 16s - 945us/step - accuracy: 0.9541 - loss: 0.1173 - val_accuracy: 0.9438 - val_loss: 0.1509\n",
      "Epoch 9/30\n",
      "16502/16502 - 17s - 1ms/step - accuracy: 0.9545 - loss: 0.1165 - val_accuracy: 0.9560 - val_loss: 0.1233\n",
      "Epoch 10/30\n",
      "16502/16502 - 17s - 1ms/step - accuracy: 0.9553 - loss: 0.1145 - val_accuracy: 0.9434 - val_loss: 0.1538\n",
      "Epoch 11/30\n",
      "16502/16502 - 18s - 1ms/step - accuracy: 0.9556 - loss: 0.1141 - val_accuracy: 0.9492 - val_loss: 0.1260\n",
      "Epoch 12/30\n",
      "16502/16502 - 18s - 1ms/step - accuracy: 0.9559 - loss: 0.1133 - val_accuracy: 0.9604 - val_loss: 0.1171\n",
      "Epoch 13/30\n",
      "16502/16502 - 17s - 1ms/step - accuracy: 0.9558 - loss: 0.1129 - val_accuracy: 0.9541 - val_loss: 0.1307\n",
      "Epoch 14/30\n",
      "16502/16502 - 17s - 1ms/step - accuracy: 0.9563 - loss: 0.1116 - val_accuracy: 0.9382 - val_loss: 0.1521\n",
      "Epoch 15/30\n",
      "16502/16502 - 17s - 1ms/step - accuracy: 0.9568 - loss: 0.1111 - val_accuracy: 0.9451 - val_loss: 0.1410\n",
      "Epoch 16/30\n",
      "16502/16502 - 18s - 1ms/step - accuracy: 0.9569 - loss: 0.1107 - val_accuracy: 0.9525 - val_loss: 0.1216\n",
      "Epoch 17/30\n",
      "16502/16502 - 16s - 977us/step - accuracy: 0.9571 - loss: 0.1101 - val_accuracy: 0.9434 - val_loss: 0.1546\n",
      "Epoch 18/30\n",
      "16502/16502 - 17s - 1ms/step - accuracy: 0.9574 - loss: 0.1093 - val_accuracy: 0.9512 - val_loss: 0.1549\n",
      "Epoch 19/30\n",
      "16502/16502 - 17s - 1ms/step - accuracy: 0.9573 - loss: 0.1094 - val_accuracy: 0.9438 - val_loss: 0.1471\n",
      "Epoch 20/30\n",
      "16502/16502 - 16s - 949us/step - accuracy: 0.9577 - loss: 0.1088 - val_accuracy: 0.9587 - val_loss: 0.1412\n",
      "Epoch 21/30\n",
      "16502/16502 - 16s - 959us/step - accuracy: 0.9579 - loss: 0.1084 - val_accuracy: 0.9531 - val_loss: 0.1276\n",
      "Epoch 22/30\n",
      "16502/16502 - 16s - 967us/step - accuracy: 0.9580 - loss: 0.1083 - val_accuracy: 0.9408 - val_loss: 0.1469\n",
      "Epoch 23/30\n",
      "16502/16502 - 16s - 973us/step - accuracy: 0.9584 - loss: 0.1073 - val_accuracy: 0.9539 - val_loss: 0.1285\n",
      "Epoch 24/30\n",
      "16502/16502 - 16s - 961us/step - accuracy: 0.9583 - loss: 0.1076 - val_accuracy: 0.9443 - val_loss: 0.1367\n",
      "Epoch 25/30\n",
      "16502/16502 - 16s - 975us/step - accuracy: 0.9587 - loss: 0.1064 - val_accuracy: 0.9484 - val_loss: 0.1467\n",
      "Epoch 26/30\n",
      "16502/16502 - 16s - 966us/step - accuracy: 0.9588 - loss: 0.1061 - val_accuracy: 0.9307 - val_loss: 0.1858\n",
      "Epoch 27/30\n",
      "16502/16502 - 17s - 1ms/step - accuracy: 0.9590 - loss: 0.1060 - val_accuracy: 0.9661 - val_loss: 0.1068\n",
      "Epoch 28/30\n",
      "16502/16502 - 17s - 1ms/step - accuracy: 0.9588 - loss: 0.1062 - val_accuracy: 0.9578 - val_loss: 0.1210\n",
      "Epoch 29/30\n",
      "16502/16502 - 17s - 1ms/step - accuracy: 0.9591 - loss: 0.1054 - val_accuracy: 0.9557 - val_loss: 0.1344\n",
      "Epoch 30/30\n",
      "16502/16502 - 17s - 1ms/step - accuracy: 0.9592 - loss: 0.1053 - val_accuracy: 0.9457 - val_loss: 0.1487\n"
     ]
    },
    {
     "data": {
      "text/plain": [
       "<keras.src.callbacks.history.History at 0x2668cefa420>"
      ]
     },
     "execution_count": 144,
     "metadata": {},
     "output_type": "execute_result"
    }
   ],
   "source": [
    "oversample_model.fit(Xsm_train, ysm_train, validation_split = 0.2, batch_size = 100, epochs = 30, shuffle = True, verbose = 2)"
   ]
  },
  {
   "cell_type": "code",
   "execution_count": 145,
   "id": "50a2bd48",
   "metadata": {},
   "outputs": [
    {
     "name": "stdout",
     "output_type": "stream",
     "text": [
      "\u001b[1m1297/1297\u001b[0m \u001b[32m━━━━━━━━━━━━━━━━━━━━\u001b[0m\u001b[37m\u001b[0m \u001b[1m1s\u001b[0m 615us/step\n"
     ]
    }
   ],
   "source": [
    "preds = (oversample_model.predict(original_Xtest, batch_size=200, verbose = 1) > 0.5).astype(int)\n",
    "preds = np.argmax(preds, axis = 1)"
   ]
  },
  {
   "cell_type": "code",
   "execution_count": null,
   "id": "d2feb253",
   "metadata": {},
   "outputs": [],
   "source": []
  },
  {
   "cell_type": "markdown",
   "id": "2a8db3d0",
   "metadata": {},
   "source": [
    "Model now performs much better we can see we do not significantly misclassify no fraud as fraud anymore and this only occurs for a minute set of cases"
   ]
  },
  {
   "cell_type": "code",
   "execution_count": 146,
   "id": "df19ca68",
   "metadata": {},
   "outputs": [
    {
     "name": "stdout",
     "output_type": "stream",
     "text": [
      "Confusion matrix, without normalization\n",
      "[[249112   8721]\n",
      " [   146   1356]]\n"
     ]
    },
    {
     "data": {
      "image/png": "[encoded data removed]",
      "text/plain": [
       "<Figure size 1600x800 with 2 Axes>"
      ]
     },
     "metadata": {},
     "output_type": "display_data"
    }
   ],
   "source": [
    "oversample_preds = confusion_matrix(original_ytest, preds)\n",
    "labels = ['No Fraud', 'Fraud']\n",
    "fig = plt.figure(figsize=(16,8))\n",
    "fig.add_subplot(221)\n",
    "plot_confusion_matrix(oversample_preds, labels, title=\"Random UnderSample \\n Confusion Matrix\", cmap=plt.cm.Reds)"
   ]
  },
  {
   "cell_type": "code",
   "execution_count": 147,
   "id": "b0aa3c18",
   "metadata": {},
   "outputs": [
    {
     "name": "stdout",
     "output_type": "stream",
     "text": [
      "\u001b[1m1297/1297\u001b[0m \u001b[32m━━━━━━━━━━━━━━━━━━━━\u001b[0m\u001b[37m\u001b[0m \u001b[1m1s\u001b[0m 564us/step\n"
     ]
    }
   ],
   "source": [
    "y_pred = oversample_model.predict(original_Xtest, batch_size=200, verbose = 1)\n",
    "y_pred = np.argmax(y_pred, axis = 1)"
   ]
  },
  {
   "cell_type": "code",
   "execution_count": 148,
   "id": "f0c7bc94",
   "metadata": {},
   "outputs": [
    {
     "data": {
      "image/png": "[encoded data removed]",
      "text/plain": [
       "<Figure size 640x480 with 1 Axes>"
      ]
     },
     "metadata": {},
     "output_type": "display_data"
    }
   ],
   "source": [
    "from sklearn.metrics import precision_recall_curve\n",
    "import matplotlib.pyplot as plt\n",
    "\n",
    "precision, recall, thresholds = precision_recall_curve(original_ytest, y_pred)\n",
    "\n",
    "plt.plot(recall, precision)\n",
    "plt.xlabel('Recall')\n",
    "plt.ylabel('Precision')\n",
    "plt.title('Precision-Recall Curve')\n",
    "plt.grid()\n",
    "plt.show()"
   ]
  }
 ],
 "metadata": {
  "kernelspec": {
   "display_name": "Python 3",
   "language": "python",
   "name": "python3"
  },
  "language_info": {
   "codemirror_mode": {
    "name": "ipython",
    "version": 3
   },
   "file_extension": ".py",
   "mimetype": "text/x-python",
   "name": "python",
   "nbconvert_exporter": "python",
   "pygments_lexer": "ipython3",
   "version": "3.12.2"
  }
 },
 "nbformat": 4,
 "nbformat_minor": 5
}
